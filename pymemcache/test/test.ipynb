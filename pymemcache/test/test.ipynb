{
 "metadata": {
  "language_info": {
   "codemirror_mode": {
    "name": "ipython",
    "version": 3
   },
   "file_extension": ".py",
   "mimetype": "text/x-python",
   "name": "python",
   "nbconvert_exporter": "python",
   "pygments_lexer": "ipython3",
   "version": "3.7.3-final"
  },
  "orig_nbformat": 2,
  "kernelspec": {
   "name": "python_defaultSpec_1600630269982",
   "display_name": "Python 3.7.3 64-bit ('anaconda3': virtualenv)"
  }
 },
 "nbformat": 4,
 "nbformat_minor": 2,
 "cells": [
  {
   "cell_type": "code",
   "execution_count": 29,
   "metadata": {
    "tags": []
   },
   "outputs": [
    {
     "output_type": "stream",
     "name": "stdout",
     "text": "load cache from /Users/shaliu/Documents/Cloud Computing/storeddata.pickle\nServer loop running in thread:Thread-52\nThread-53\nThread-54127.0.0.1 wrote: b'set name 0 0 7 noreply'\n{b'name': (0, 0, b'Sha Liu'), b'name4': (0, 0, b'Marco Liu'), b'name5': (0, 0, b'Sky Liu'), b'name2': (0, 0, b'Marco Liu'), b'name3': (0, 0, b'Sky Liu'), b'class': (0, 0, b'Cloud Computing'), b'task': (0, 0, b'1')}\nThread-53\n\n127.0.0.1 wrote: b'set name2 0 0 9 noreply'\n{b'name': (0, 0, b'Sha Liu'), b'name4': (0, 0, b'Marco Liu'), b'name5': (0, 0, b'Sky Liu'), b'name2': (0, 0, b'Marco Liu'), b'name3': (0, 0, b'Sky Liu'), b'class': (0, 0, b'Cloud Computing'), b'task': (0, 0, b'1')}\nThread-54\nThread-55\n127.0.0.1 wrote: b'set name3 0 0 7 noreply'\n{b'name': (0, 0, b'Sha Liu'), b'name4': (0, 0, b'Marco Liu'), b'name5': (0, 0, b'Sky Liu'), b'name2': (0, 0, b'Marco Liu'), b'name3': (0, 0, b'Sky Liu'), b'class': (0, 0, b'Cloud Computing'), b'task': (0, 0, b'1')}\nThread-55\n127.0.0.1 wrote: b'set name 0 0 7 noreply'True\nTrue\n\n{b'name': (0, 0, b'Sha Liu'), b'name4': (0, 0, b'Marco Liu'), b'name5': (0, 0, b'Sky Liu'), b'name2': (0, 0, b'Marco Liu'), b'name3': (0, 0, b'Sky Liu'), b'class': (0, 0, b'Cloud Computing'), b'task': (0, 0, b'1')}\nThread-53\n127.0.0.1 wrote: b'set task 0 0 20 noreply'\n{b'name': (0, 0, b'Sha Liu'), b'name4': (0, 0, b'Marco Liu'), b'name5': (0, 0, b'Sky Liu'), b'name2': (0, 0, b'Marco Liu'), b'name3': (0, 0, b'Sky Liu'), b'class': (0, 0, b'Cloud Computing'), b'task': (0, 0, b'Program Assignment 1')}\nThread-55\n127.0.0.1 wrote: b'set class 0 0 15 noreply'\n{b'name': (0, 0, b'Sha Liu'), b'name4': (0, 0, b'Marco Liu'), b'name5': (0, 0, b'Sky Liu'), b'name2': (0, 0, b'Marco Liu'), b'name3': (0, 0, b'Sky Liu'), b'class': (0, 0, b'Cloud Computing'), b'task': (0, 0, b'Program Assignment 1')}\nThread-54\nTrue\n127.0.0.1 wrote: b'get name'\nReturn the value of name:  b'Sha Liu'\nThread-53127.0.0.1 wrote: b'get class'\n\nThread-54\nReturn the value of class:  b'Cloud Computing'\n127.0.0.1 wrote: b'get task'\nThread-55\nReturn the value of task:  b'Program Assignment 1'\n127.0.0.1 wrote: b'get task'\nReturn the value of task:  b'Program Assignment 1'\nThread-53\ndump cache to /Users/shaliu/Documents/Cloud Computing/storeddata.pickle\nfinal\n"
    }
   ],
   "source": [
    "import socket\n",
    "import threading\n",
    "from pymemcache.server.base import *\n",
    "from pymemcache.client.base import Client\n",
    "\n",
    "HOST, PORT = \"127.0.0.1\", 0\n",
    "server = ThreadedTCPServer((HOST, PORT), MyRequestHandler)\n",
    "\n",
    "# Start a thread with the server -- that thread will then start one\n",
    "# more thread for each request\n",
    "server_thread = threading.Thread(target=server.serve_forever)\n",
    "\n",
    "# Exit the server thread when the main thread terminates\n",
    "server_thread.daemon = True\n",
    "server_thread.start()\n",
    "print(\"Server loop running in thread:{}\".format(server_thread.name))\n",
    "\n",
    "# create three clients\n",
    "ip, port = server.server_address\n",
    "client1 = Client('{}:{}'.format(ip, port))\n",
    "client2 = Client('{}:{}'.format(ip, port))\n",
    "client3 = Client('{}:{}'.format(ip, port))\n",
    "\n",
    "# created three key value pairs\n",
    "client1.set('name', 'Sha Liu')\n",
    "client2.set('name2', 'Marco Liu')\n",
    "client3.set('name3',  'Sky Liu')\n",
    "\n",
    "# created another three key value pairs to test the cache has stored the previous key-value pairs\n",
    "print(client1.set('name', 'Sha Liu'))\n",
    "print(client2.set('class', 'Cloud Computing'))\n",
    "print(client3.set('task', 'Program Assignment 1'))\n",
    "\n",
    "# test the server can handle multiple request at the same time\n",
    "print(\"Return the value of name: \",client1.get('name'))\n",
    "print(\"Return the value of class: \", client2.get('class'))\n",
    "print(\"Return the value of task: \", client3.get('task'))\n",
    "\n",
    "# test the server has stored all the key-value pairs and can return values by any threads created\n",
    "# thread-3 has returned the value that was created by client1\n",
    "print(\"Return the value of task: \", client1.get('task'))\n",
    "\n",
    "client1.close()\n",
    "client2.close()\n",
    "client3.close()\n",
    "\n",
    "server.shutdown()\n",
    "server.server_close()\n",
    "print('final')\n"
   ]
  },
  {
   "cell_type": "code",
   "execution_count": null,
   "metadata": {},
   "outputs": [],
   "source": []
  }
 ]
}